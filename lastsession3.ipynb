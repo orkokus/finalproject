{
 "cells": [
  {
   "cell_type": "markdown",
   "id": "e4a08243-5391-4a17-823a-edacba699eb5",
   "metadata": {},
   "source": [
    "# **MY JUPYTER NOTEBOOK ON IBM WATSON STUDIO**"
   ]
  },
  {
   "cell_type": "markdown",
   "id": "586f9241-de8c-47bd-9c5b-d62d288f0ec0",
   "metadata": {},
   "source": [
    "**ORÇUN KUŞDEMİR**<br>\n",
    "Machine Learning Engineer"
   ]
  },
  {
   "cell_type": "markdown",
   "id": "028824da-cdd6-4d47-8d60-688cda22f7e3",
   "metadata": {},
   "source": [
    "*I am interested in Data Science because I am extremely interested in Maths and Statistics and desire to integrate DS knowledge into AI.*"
   ]
  },
  {
   "cell_type": "markdown",
   "id": "b63037f5-d9fd-4e75-adcc-a7070579ea3f",
   "metadata": {},
   "source": [
    "### My code is going to calculate 1 multiplied by 2."
   ]
  },
  {
   "cell_type": "code",
   "execution_count": 1,
   "id": "f86b5e21-43c6-4d81-8c91-f867854159e9",
   "metadata": {},
   "outputs": [
    {
     "name": "stdout",
     "output_type": "stream",
     "text": [
      "2\n"
     ]
    }
   ],
   "source": [
    "a=1\n",
    "b=2\n",
    "print(a*b)"
   ]
  },
  {
   "cell_type": "markdown",
   "id": "261ecbd9-dad6-4ebf-ad2f-a1cadf4add7a",
   "metadata": {},
   "source": [
    "- Pilots\n",
    "- Dispatchers\n",
    "- Cabin Crew"
   ]
  },
  {
   "cell_type": "markdown",
   "id": "16e65eea-8664-479a-97fa-b329fe39318e",
   "metadata": {},
   "source": [
    "1. Messi\n",
    "1. Ronaldo\n",
    "1. Neymar"
   ]
  },
  {
   "cell_type": "markdown",
   "id": "c5f69acb-daa5-435d-998c-5920e88c0ea9",
   "metadata": {},
   "source": [
    "<DOCTYPE html>\n",
    "<html lang=\"en\">\n",
    "    <head>\n",
    "        <title>First Document</title>\n",
    "        <link rel=\"stylesheet\" href=\"style.css\">\n",
    "    </head>\n",
    "    <body>\n",
    "        <h1>Messi</h1>\n",
    "        <img src=\"C:\\Users\\kusde\\Downloads\\messi.jpg\" alt=\"messi.photo\" height=\"300px\" width=\"500px\">\n",
    "        <p style=\"font-size: 23px;\">\n",
    "            This image is inserted from local computer.\n",
    "        </p>\n",
    "    </body>\n",
    "</html>"
   ]
  },
  {
   "cell_type": "code",
   "execution_count": null,
   "id": "46f0a55d-76cc-475a-9ecb-185eb2630774",
   "metadata": {},
   "outputs": [],
   "source": []
  }
 ],
 "metadata": {
  "kernelspec": {
   "display_name": "Python",
   "language": "python",
   "name": "conda-env-python-py"
  },
  "language_info": {
   "codemirror_mode": {
    "name": "ipython",
    "version": 3
   },
   "file_extension": ".py",
   "mimetype": "text/x-python",
   "name": "python",
   "nbconvert_exporter": "python",
   "pygments_lexer": "ipython3",
   "version": "3.7.12"
  }
 },
 "nbformat": 4,
 "nbformat_minor": 5
}
